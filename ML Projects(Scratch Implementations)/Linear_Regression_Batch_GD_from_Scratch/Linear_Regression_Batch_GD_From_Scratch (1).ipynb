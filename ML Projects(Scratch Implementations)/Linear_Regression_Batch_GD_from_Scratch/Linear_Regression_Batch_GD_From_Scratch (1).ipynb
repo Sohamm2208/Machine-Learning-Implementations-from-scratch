{
  "nbformat": 4,
  "nbformat_minor": 0,
  "metadata": {
    "colab": {
      "provenance": []
    },
    "kernelspec": {
      "name": "python3",
      "display_name": "Python 3"
    },
    "language_info": {
      "name": "python"
    }
  },
  "cells": [
    {
      "cell_type": "markdown",
      "source": [
        "##Importing Necessary Libraries"
      ],
      "metadata": {
        "id": "YJBXdSKDmsFF"
      }
    },
    {
      "cell_type": "code",
      "execution_count": null,
      "metadata": {
        "id": "72Lvosmkmwq9"
      },
      "outputs": [],
      "source": [
        "import pandas as pd\n",
        "import numpy as np\n",
        "import matplotlib.pyplot as plt\n",
        "from sklearn.model_selection import train_test_split\n",
        "import math\n",
        "import copy\n"
      ]
    },
    {
      "cell_type": "markdown",
      "source": [
        "## Importing the Advertising Dataset\n",
        "This dataset shows the effect of different types of advertising media on the sales of a company. We will try to predict the sales based on the advertising media(TV,Radio,Newspaper) as features."
      ],
      "metadata": {
        "id": "IydHKSMVm05R"
      }
    },
    {
      "cell_type": "code",
      "source": [
        "df=pd.read_csv(\"advertising (7).csv\")"
      ],
      "metadata": {
        "id": "ti0R9Fjiqh-A"
      },
      "execution_count": null,
      "outputs": []
    },
    {
      "cell_type": "code",
      "source": [
        "df.head()"
      ],
      "metadata": {
        "colab": {
          "base_uri": "https://localhost:8080/",
          "height": 206
        },
        "id": "0uzkpj02sZmd",
        "outputId": "bd202d61-9499-4d9a-88a6-4554c403621d"
      },
      "execution_count": null,
      "outputs": [
        {
          "output_type": "execute_result",
          "data": {
            "text/plain": [
              "      TV  Radio  Newspaper  Sales\n",
              "0  230.1   37.8       69.2   22.1\n",
              "1   44.5   39.3       45.1   10.4\n",
              "2   17.2   45.9       69.3   12.0\n",
              "3  151.5   41.3       58.5   16.5\n",
              "4  180.8   10.8       58.4   17.9"
            ],
            "text/html": [
              "\n",
              "  <div id=\"df-609249fa-f0e7-4fc4-990f-9bebaaa13658\" class=\"colab-df-container\">\n",
              "    <div>\n",
              "<style scoped>\n",
              "    .dataframe tbody tr th:only-of-type {\n",
              "        vertical-align: middle;\n",
              "    }\n",
              "\n",
              "    .dataframe tbody tr th {\n",
              "        vertical-align: top;\n",
              "    }\n",
              "\n",
              "    .dataframe thead th {\n",
              "        text-align: right;\n",
              "    }\n",
              "</style>\n",
              "<table border=\"1\" class=\"dataframe\">\n",
              "  <thead>\n",
              "    <tr style=\"text-align: right;\">\n",
              "      <th></th>\n",
              "      <th>TV</th>\n",
              "      <th>Radio</th>\n",
              "      <th>Newspaper</th>\n",
              "      <th>Sales</th>\n",
              "    </tr>\n",
              "  </thead>\n",
              "  <tbody>\n",
              "    <tr>\n",
              "      <th>0</th>\n",
              "      <td>230.1</td>\n",
              "      <td>37.8</td>\n",
              "      <td>69.2</td>\n",
              "      <td>22.1</td>\n",
              "    </tr>\n",
              "    <tr>\n",
              "      <th>1</th>\n",
              "      <td>44.5</td>\n",
              "      <td>39.3</td>\n",
              "      <td>45.1</td>\n",
              "      <td>10.4</td>\n",
              "    </tr>\n",
              "    <tr>\n",
              "      <th>2</th>\n",
              "      <td>17.2</td>\n",
              "      <td>45.9</td>\n",
              "      <td>69.3</td>\n",
              "      <td>12.0</td>\n",
              "    </tr>\n",
              "    <tr>\n",
              "      <th>3</th>\n",
              "      <td>151.5</td>\n",
              "      <td>41.3</td>\n",
              "      <td>58.5</td>\n",
              "      <td>16.5</td>\n",
              "    </tr>\n",
              "    <tr>\n",
              "      <th>4</th>\n",
              "      <td>180.8</td>\n",
              "      <td>10.8</td>\n",
              "      <td>58.4</td>\n",
              "      <td>17.9</td>\n",
              "    </tr>\n",
              "  </tbody>\n",
              "</table>\n",
              "</div>\n",
              "    <div class=\"colab-df-buttons\">\n",
              "\n",
              "  <div class=\"colab-df-container\">\n",
              "    <button class=\"colab-df-convert\" onclick=\"convertToInteractive('df-609249fa-f0e7-4fc4-990f-9bebaaa13658')\"\n",
              "            title=\"Convert this dataframe to an interactive table.\"\n",
              "            style=\"display:none;\">\n",
              "\n",
              "  <svg xmlns=\"http://www.w3.org/2000/svg\" height=\"24px\" viewBox=\"0 -960 960 960\">\n",
              "    <path d=\"M120-120v-720h720v720H120Zm60-500h600v-160H180v160Zm220 220h160v-160H400v160Zm0 220h160v-160H400v160ZM180-400h160v-160H180v160Zm440 0h160v-160H620v160ZM180-180h160v-160H180v160Zm440 0h160v-160H620v160Z\"/>\n",
              "  </svg>\n",
              "    </button>\n",
              "\n",
              "  <style>\n",
              "    .colab-df-container {\n",
              "      display:flex;\n",
              "      gap: 12px;\n",
              "    }\n",
              "\n",
              "    .colab-df-convert {\n",
              "      background-color: #E8F0FE;\n",
              "      border: none;\n",
              "      border-radius: 50%;\n",
              "      cursor: pointer;\n",
              "      display: none;\n",
              "      fill: #1967D2;\n",
              "      height: 32px;\n",
              "      padding: 0 0 0 0;\n",
              "      width: 32px;\n",
              "    }\n",
              "\n",
              "    .colab-df-convert:hover {\n",
              "      background-color: #E2EBFA;\n",
              "      box-shadow: 0px 1px 2px rgba(60, 64, 67, 0.3), 0px 1px 3px 1px rgba(60, 64, 67, 0.15);\n",
              "      fill: #174EA6;\n",
              "    }\n",
              "\n",
              "    .colab-df-buttons div {\n",
              "      margin-bottom: 4px;\n",
              "    }\n",
              "\n",
              "    [theme=dark] .colab-df-convert {\n",
              "      background-color: #3B4455;\n",
              "      fill: #D2E3FC;\n",
              "    }\n",
              "\n",
              "    [theme=dark] .colab-df-convert:hover {\n",
              "      background-color: #434B5C;\n",
              "      box-shadow: 0px 1px 3px 1px rgba(0, 0, 0, 0.15);\n",
              "      filter: drop-shadow(0px 1px 2px rgba(0, 0, 0, 0.3));\n",
              "      fill: #FFFFFF;\n",
              "    }\n",
              "  </style>\n",
              "\n",
              "    <script>\n",
              "      const buttonEl =\n",
              "        document.querySelector('#df-609249fa-f0e7-4fc4-990f-9bebaaa13658 button.colab-df-convert');\n",
              "      buttonEl.style.display =\n",
              "        google.colab.kernel.accessAllowed ? 'block' : 'none';\n",
              "\n",
              "      async function convertToInteractive(key) {\n",
              "        const element = document.querySelector('#df-609249fa-f0e7-4fc4-990f-9bebaaa13658');\n",
              "        const dataTable =\n",
              "          await google.colab.kernel.invokeFunction('convertToInteractive',\n",
              "                                                    [key], {});\n",
              "        if (!dataTable) return;\n",
              "\n",
              "        const docLinkHtml = 'Like what you see? Visit the ' +\n",
              "          '<a target=\"_blank\" href=https://colab.research.google.com/notebooks/data_table.ipynb>data table notebook</a>'\n",
              "          + ' to learn more about interactive tables.';\n",
              "        element.innerHTML = '';\n",
              "        dataTable['output_type'] = 'display_data';\n",
              "        await google.colab.output.renderOutput(dataTable, element);\n",
              "        const docLink = document.createElement('div');\n",
              "        docLink.innerHTML = docLinkHtml;\n",
              "        element.appendChild(docLink);\n",
              "      }\n",
              "    </script>\n",
              "  </div>\n",
              "\n",
              "\n",
              "    <div id=\"df-3d03e527-a989-417f-b114-7e78b6cada24\">\n",
              "      <button class=\"colab-df-quickchart\" onclick=\"quickchart('df-3d03e527-a989-417f-b114-7e78b6cada24')\"\n",
              "                title=\"Suggest charts\"\n",
              "                style=\"display:none;\">\n",
              "\n",
              "<svg xmlns=\"http://www.w3.org/2000/svg\" height=\"24px\"viewBox=\"0 0 24 24\"\n",
              "     width=\"24px\">\n",
              "    <g>\n",
              "        <path d=\"M19 3H5c-1.1 0-2 .9-2 2v14c0 1.1.9 2 2 2h14c1.1 0 2-.9 2-2V5c0-1.1-.9-2-2-2zM9 17H7v-7h2v7zm4 0h-2V7h2v10zm4 0h-2v-4h2v4z\"/>\n",
              "    </g>\n",
              "</svg>\n",
              "      </button>\n",
              "\n",
              "<style>\n",
              "  .colab-df-quickchart {\n",
              "      --bg-color: #E8F0FE;\n",
              "      --fill-color: #1967D2;\n",
              "      --hover-bg-color: #E2EBFA;\n",
              "      --hover-fill-color: #174EA6;\n",
              "      --disabled-fill-color: #AAA;\n",
              "      --disabled-bg-color: #DDD;\n",
              "  }\n",
              "\n",
              "  [theme=dark] .colab-df-quickchart {\n",
              "      --bg-color: #3B4455;\n",
              "      --fill-color: #D2E3FC;\n",
              "      --hover-bg-color: #434B5C;\n",
              "      --hover-fill-color: #FFFFFF;\n",
              "      --disabled-bg-color: #3B4455;\n",
              "      --disabled-fill-color: #666;\n",
              "  }\n",
              "\n",
              "  .colab-df-quickchart {\n",
              "    background-color: var(--bg-color);\n",
              "    border: none;\n",
              "    border-radius: 50%;\n",
              "    cursor: pointer;\n",
              "    display: none;\n",
              "    fill: var(--fill-color);\n",
              "    height: 32px;\n",
              "    padding: 0;\n",
              "    width: 32px;\n",
              "  }\n",
              "\n",
              "  .colab-df-quickchart:hover {\n",
              "    background-color: var(--hover-bg-color);\n",
              "    box-shadow: 0 1px 2px rgba(60, 64, 67, 0.3), 0 1px 3px 1px rgba(60, 64, 67, 0.15);\n",
              "    fill: var(--button-hover-fill-color);\n",
              "  }\n",
              "\n",
              "  .colab-df-quickchart-complete:disabled,\n",
              "  .colab-df-quickchart-complete:disabled:hover {\n",
              "    background-color: var(--disabled-bg-color);\n",
              "    fill: var(--disabled-fill-color);\n",
              "    box-shadow: none;\n",
              "  }\n",
              "\n",
              "  .colab-df-spinner {\n",
              "    border: 2px solid var(--fill-color);\n",
              "    border-color: transparent;\n",
              "    border-bottom-color: var(--fill-color);\n",
              "    animation:\n",
              "      spin 1s steps(1) infinite;\n",
              "  }\n",
              "\n",
              "  @keyframes spin {\n",
              "    0% {\n",
              "      border-color: transparent;\n",
              "      border-bottom-color: var(--fill-color);\n",
              "      border-left-color: var(--fill-color);\n",
              "    }\n",
              "    20% {\n",
              "      border-color: transparent;\n",
              "      border-left-color: var(--fill-color);\n",
              "      border-top-color: var(--fill-color);\n",
              "    }\n",
              "    30% {\n",
              "      border-color: transparent;\n",
              "      border-left-color: var(--fill-color);\n",
              "      border-top-color: var(--fill-color);\n",
              "      border-right-color: var(--fill-color);\n",
              "    }\n",
              "    40% {\n",
              "      border-color: transparent;\n",
              "      border-right-color: var(--fill-color);\n",
              "      border-top-color: var(--fill-color);\n",
              "    }\n",
              "    60% {\n",
              "      border-color: transparent;\n",
              "      border-right-color: var(--fill-color);\n",
              "    }\n",
              "    80% {\n",
              "      border-color: transparent;\n",
              "      border-right-color: var(--fill-color);\n",
              "      border-bottom-color: var(--fill-color);\n",
              "    }\n",
              "    90% {\n",
              "      border-color: transparent;\n",
              "      border-bottom-color: var(--fill-color);\n",
              "    }\n",
              "  }\n",
              "</style>\n",
              "\n",
              "      <script>\n",
              "        async function quickchart(key) {\n",
              "          const quickchartButtonEl =\n",
              "            document.querySelector('#' + key + ' button');\n",
              "          quickchartButtonEl.disabled = true;  // To prevent multiple clicks.\n",
              "          quickchartButtonEl.classList.add('colab-df-spinner');\n",
              "          try {\n",
              "            const charts = await google.colab.kernel.invokeFunction(\n",
              "                'suggestCharts', [key], {});\n",
              "          } catch (error) {\n",
              "            console.error('Error during call to suggestCharts:', error);\n",
              "          }\n",
              "          quickchartButtonEl.classList.remove('colab-df-spinner');\n",
              "          quickchartButtonEl.classList.add('colab-df-quickchart-complete');\n",
              "        }\n",
              "        (() => {\n",
              "          let quickchartButtonEl =\n",
              "            document.querySelector('#df-3d03e527-a989-417f-b114-7e78b6cada24 button');\n",
              "          quickchartButtonEl.style.display =\n",
              "            google.colab.kernel.accessAllowed ? 'block' : 'none';\n",
              "        })();\n",
              "      </script>\n",
              "    </div>\n",
              "\n",
              "    </div>\n",
              "  </div>\n"
            ],
            "application/vnd.google.colaboratory.intrinsic+json": {
              "type": "dataframe",
              "variable_name": "df",
              "summary": "{\n  \"name\": \"df\",\n  \"rows\": 200,\n  \"fields\": [\n    {\n      \"column\": \"TV\",\n      \"properties\": {\n        \"dtype\": \"number\",\n        \"std\": 85.8542363149081,\n        \"min\": 0.7,\n        \"max\": 296.4,\n        \"num_unique_values\": 190,\n        \"samples\": [\n          287.6,\n          286.0,\n          78.2\n        ],\n        \"semantic_type\": \"\",\n        \"description\": \"\"\n      }\n    },\n    {\n      \"column\": \"Radio\",\n      \"properties\": {\n        \"dtype\": \"number\",\n        \"std\": 14.846809176168723,\n        \"min\": 0.0,\n        \"max\": 49.6,\n        \"num_unique_values\": 167,\n        \"samples\": [\n          8.2,\n          36.9,\n          44.5\n        ],\n        \"semantic_type\": \"\",\n        \"description\": \"\"\n      }\n    },\n    {\n      \"column\": \"Newspaper\",\n      \"properties\": {\n        \"dtype\": \"number\",\n        \"std\": 21.778620838522833,\n        \"min\": 0.3,\n        \"max\": 114.0,\n        \"num_unique_values\": 172,\n        \"samples\": [\n          22.3,\n          5.7,\n          17.0\n        ],\n        \"semantic_type\": \"\",\n        \"description\": \"\"\n      }\n    },\n    {\n      \"column\": \"Sales\",\n      \"properties\": {\n        \"dtype\": \"number\",\n        \"std\": 5.283892252561874,\n        \"min\": 1.6,\n        \"max\": 27.0,\n        \"num_unique_values\": 121,\n        \"samples\": [\n          19.8,\n          22.6,\n          17.9\n        ],\n        \"semantic_type\": \"\",\n        \"description\": \"\"\n      }\n    }\n  ]\n}"
            }
          },
          "metadata": {},
          "execution_count": 337
        }
      ]
    },
    {
      "cell_type": "code",
      "source": [
        "df.shape"
      ],
      "metadata": {
        "colab": {
          "base_uri": "https://localhost:8080/"
        },
        "id": "D0xeAoweulml",
        "outputId": "9a07de1b-79be-4758-9694-e17d953f659e"
      },
      "execution_count": null,
      "outputs": [
        {
          "output_type": "execute_result",
          "data": {
            "text/plain": [
              "(200, 4)"
            ]
          },
          "metadata": {},
          "execution_count": 338
        }
      ]
    },
    {
      "cell_type": "markdown",
      "source": [
        "##Splitting the data into feature and target. Further doing 80-20 train -test split on data."
      ],
      "metadata": {
        "id": "uGizBsWDnX0F"
      }
    },
    {
      "cell_type": "code",
      "source": [
        "features=df.iloc[:,:-1]\n",
        "target=df[\"Sales\"]\n",
        "x_train,x_test,y_train,y_test=train_test_split(features,target,test_size=0.2,random_state=42)"
      ],
      "metadata": {
        "id": "WHgOebCiuYqf"
      },
      "execution_count": null,
      "outputs": []
    },
    {
      "cell_type": "code",
      "source": [
        "y_train=y_train.to_numpy()\n",
        "y_test=y_test.to_numpy()\n",
        "x_train=x_train.to_numpy()\n",
        "x_test=x_test.to_numpy()"
      ],
      "metadata": {
        "id": "q9wJgDjhXZH2"
      },
      "execution_count": null,
      "outputs": []
    },
    {
      "cell_type": "code",
      "source": [
        "# print x_train\n",
        "print(\"First five elements of x_train are:\\n\", x_train[:5])\n",
        "#print y_train\n",
        "print(\"Five first elements of y_train are:\\n\",y_train[:5])"
      ],
      "metadata": {
        "colab": {
          "base_uri": "https://localhost:8080/"
        },
        "id": "a6qpWciMnKHs",
        "outputId": "533d308c-4cd3-48dd-94a0-2f687efd562a"
      },
      "execution_count": null,
      "outputs": [
        {
          "output_type": "stream",
          "name": "stdout",
          "text": [
            "First five elements of x_train are:\n",
            " [[116.    7.7  23.1]\n",
            " [177.    9.3   6.4]\n",
            " [ 43.1  26.7  35.1]\n",
            " [ 62.3  12.6  18.3]\n",
            " [224.    2.4  15.6]]\n",
            "Five first elements of y_train are:\n",
            " [11.  14.8 10.1  9.7 16.6]\n"
          ]
        }
      ]
    },
    {
      "cell_type": "markdown",
      "source": [
        "## Feature Normalization"
      ],
      "metadata": {
        "id": "T9E0pj2QRNy0"
      }
    },
    {
      "cell_type": "code",
      "source": [
        "from sklearn.preprocessing import StandardScaler\n",
        "std_sca=StandardScaler()\n",
        "x_train=std_sca.fit_transform(x_train)\n",
        "x_test=std_sca.transform(x_test)"
      ],
      "metadata": {
        "id": "XqwadoaMRMVe"
      },
      "execution_count": null,
      "outputs": []
    },
    {
      "cell_type": "markdown",
      "source": [
        "## Single Prediction Function using Linear Regression\n"
      ],
      "metadata": {
        "id": "kJL4fQWBSfWb"
      }
    },
    {
      "cell_type": "code",
      "source": [
        "def predict(x, w, b):\n",
        "    \"\"\"\n",
        "    single predict using linear regression\n",
        "    Args:\n",
        "      x (ndarray): Shape (n,) example with multiple features\n",
        "      w (ndarray): Shape (n,) model parameters\n",
        "      b (scalar):             model parameter\n",
        "\n",
        "    Returns:\n",
        "      p (scalar):  prediction\n",
        "    \"\"\"\n",
        "    p = np.dot(x, w) + b\n",
        "    return p"
      ],
      "metadata": {
        "id": "tkqgphNY1Psi"
      },
      "execution_count": null,
      "outputs": []
    },
    {
      "cell_type": "markdown",
      "metadata": {
        "id": "lCU4oo0b0cOA"
      },
      "source": [
        "\n",
        "## Compute Cost With Multiple Variables\n"
      ]
    },
    {
      "cell_type": "code",
      "source": [
        "def compute_cost(X, y, w, b):\n",
        "    \"\"\"\n",
        "    compute cost\n",
        "    Args:\n",
        "      X (ndarray (m,n)): Data, m examples with n features\n",
        "      y (ndarray (m,)) : target values\n",
        "      w (ndarray (n,)) : model parameters\n",
        "      b (scalar)       : model parameter\n",
        "\n",
        "    Returns:\n",
        "      cost (scalar): cost\n",
        "    \"\"\"\n",
        "    m = X.shape[0]\n",
        "    cost = 0.0\n",
        "    for i in range(m):\n",
        "        f_wb_i = np.dot(X[i], w) + b           #(n,)(n,) = scalar (see np.dot)\n",
        "        cost = cost + (f_wb_i - y[i])**2       #scalar\n",
        "    cost = cost / (2 * m)                      #scalar\n",
        "    return cost"
      ],
      "metadata": {
        "id": "R9riwVqZ1rsW"
      },
      "execution_count": null,
      "outputs": []
    },
    {
      "cell_type": "markdown",
      "metadata": {
        "id": "Qv5OyEal0cOC"
      },
      "source": [
        "\n",
        "##  Gradient Descent With Multiple Variables\n"
      ]
    },
    {
      "cell_type": "code",
      "source": [
        "def compute_gradient(X, y, w, b):\n",
        "    \"\"\"\n",
        "    Computes the gradient for linear regression\n",
        "    Args:\n",
        "      X (ndarray (m,n)): Data, m examples with n features\n",
        "      y (ndarray (m,)) : target values\n",
        "      w (ndarray (n,)) : model parameters\n",
        "      b (scalar)       : model parameter\n",
        "\n",
        "    Returns:\n",
        "      dj_dw (ndarray (n,)): The gradient of the cost w.r.t. the parameters w.\n",
        "      dj_db (scalar):       The gradient of the cost w.r.t. the parameter b.\n",
        "    \"\"\"\n",
        "    m,n = X.shape           #(number of examples, number of features)\n",
        "    dj_dw = np.zeros((n,))\n",
        "    dj_db = 0.\n",
        "\n",
        "    for i in range(m):\n",
        "        err = (np.dot(X[i], w) + b) - y[i]\n",
        "        for j in range(n):\n",
        "            dj_dw[j] = dj_dw[j] + err *X[i, j]\n",
        "        dj_db = dj_db + err\n",
        "    dj_dw = dj_dw / m\n",
        "    dj_db = dj_db / m\n",
        "\n",
        "    return dj_db, dj_dw"
      ],
      "metadata": {
        "id": "qYQj0ihO2NEp"
      },
      "execution_count": null,
      "outputs": []
    },
    {
      "cell_type": "markdown",
      "source": [
        "## Gradient Descent Algorithm Function"
      ],
      "metadata": {
        "id": "oY8njCDNsHER"
      }
    },
    {
      "cell_type": "code",
      "source": [
        "def gradient_descent(X, y, w_in, b_in, cost_function, gradient_function, alpha, num_iters):\n",
        "    \"\"\"\n",
        "    Performs batch gradient descent to learn w and b. Updates w and b by taking\n",
        "    num_iters gradient steps with learning rate alpha\n",
        "\n",
        "    Args:\n",
        "      X (ndarray (m,n))   : Data, m examples with n features\n",
        "      y (ndarray (m,))    : target values\n",
        "      w_in (ndarray (n,)) : initial model parameters\n",
        "      b_in (scalar)       : initial model parameter\n",
        "      cost_function       : function to compute cost\n",
        "      gradient_function   : function to compute the gradient\n",
        "      alpha (float)       : Learning rate\n",
        "      num_iters (int)     : number of iterations to run gradient descent\n",
        "\n",
        "    Returns:\n",
        "      w (ndarray (n,)) : Updated values of parameters\n",
        "      b (scalar)       : Updated value of parameter\n",
        "      \"\"\"\n",
        "\n",
        "    # An array to store cost J and w's at each iteration primarily for graphing later\n",
        "    J_history = []\n",
        "    w = copy.deepcopy(w_in)  #avoid modifying global w within function\n",
        "    b = b_in\n",
        "\n",
        "    for i in range(num_iters):\n",
        "\n",
        "        # Calculate the gradient and update the parameters\n",
        "        dj_db,dj_dw = gradient_function(X, y, w, b)   ##None\n",
        "\n",
        "        # Update Parameters using w, b, alpha and gradient\n",
        "        w = w - alpha * dj_dw               ##None\n",
        "        b = b - alpha * dj_db               ##None\n",
        "\n",
        "        # Save cost J at each iteration\n",
        "        if i<100000:      # prevent resource exhaustion\n",
        "            J_history.append( cost_function(X, y, w, b))\n",
        "\n",
        "        # Print cost every at intervals 10 times or as many iterations if < 10\n",
        "        if i% math.ceil(num_iters / 10) == 0:\n",
        "            print(f\"Iteration {i:4d}: Cost {J_history[-1]:8.2f}   \")\n",
        "\n",
        "    return w, b, J_history #return final w,b and J history for graphing"
      ],
      "metadata": {
        "id": "-1p40KOR2XDd"
      },
      "execution_count": null,
      "outputs": []
    },
    {
      "cell_type": "markdown",
      "source": [
        "##Implementation of Gradient Descents\n",
        "We run gradient descent algorithm for 1000 iterations with a learning rate 0.01 .It also displays the predictions made on train set."
      ],
      "metadata": {
        "id": "5ggm42UR2kvP"
      }
    },
    {
      "cell_type": "code",
      "source": [
        "# initialize parameters\n",
        "initial_w = np.zeros(x_train.shape[1])\n",
        "initial_b = 0.\n",
        "# some gradient descent settings\n",
        "iterations = 1000\n",
        "alpha = 1e-2\n",
        "# run gradient descent\n",
        "w_final, b_final, J_hist = gradient_descent(x_train, y_train, initial_w, initial_b,\n",
        "                                                    compute_cost, compute_gradient,\n",
        "                                                    alpha, iterations)\n",
        "print(f\"b,w found by gradient descent: {b_final:0.2f},{w_final} \")\n",
        "m,_ = x_train.shape\n",
        "for i in range(m):\n",
        "    print(f\"prediction: {np.dot(x_train[i], w_final) + b_final:0.2f}, target value: {y_train[i]}\")"
      ],
      "metadata": {
        "colab": {
          "base_uri": "https://localhost:8080/"
        },
        "id": "1tcqpZrb2gsp",
        "outputId": "cc6869fa-c4d8-470f-f537-f6e89c8cbcfb"
      },
      "execution_count": null,
      "outputs": [
        {
          "output_type": "stream",
          "name": "stdout",
          "text": [
            "Iteration    0: Cost   128.32   \n",
            "Iteration  100: Cost    18.24   \n",
            "Iteration  200: Cost     3.60   \n",
            "Iteration  300: Cost     1.64   \n",
            "Iteration  400: Cost     1.38   \n",
            "Iteration  500: Cost     1.34   \n",
            "Iteration  600: Cost     1.34   \n",
            "Iteration  700: Cost     1.34   \n",
            "Iteration  800: Cost     1.34   \n",
            "Iteration  900: Cost     1.34   \n",
            "b,w found by gradient descent: 15.33,[4.58710485 1.48875696 0.0890254 ] \n",
            "prediction: 11.91, target value: 11.0\n",
            "prediction: 15.33, target value: 14.8\n",
            "prediction: 9.91, target value: 10.1\n",
            "prediction: 9.46, target value: 9.7\n",
            "prediction: 17.23, target value: 16.6\n",
            "prediction: 7.23, target value: 7.6\n",
            "prediction: 10.36, target value: 10.5\n",
            "prediction: 15.24, target value: 14.6\n",
            "prediction: 11.14, target value: 10.4\n",
            "prediction: 11.72, target value: 12.0\n",
            "prediction: 13.85, target value: 14.6\n",
            "prediction: 14.67, target value: 16.7\n",
            "prediction: 10.45, target value: 7.2\n",
            "prediction: 9.28, target value: 6.6\n",
            "prediction: 9.02, target value: 9.4\n",
            "prediction: 12.48, target value: 11.0\n",
            "prediction: 10.49, target value: 10.9\n",
            "prediction: 25.00, target value: 25.4\n",
            "prediction: 7.88, target value: 7.6\n",
            "prediction: 15.86, target value: 16.7\n",
            "prediction: 21.31, target value: 20.0\n",
            "prediction: 17.01, target value: 20.5\n",
            "prediction: 12.79, target value: 11.9\n",
            "prediction: 9.84, target value: 9.2\n",
            "prediction: 21.01, target value: 17.8\n",
            "prediction: 7.48, target value: 6.6\n",
            "prediction: 23.52, target value: 20.7\n",
            "prediction: 7.06, target value: 6.7\n",
            "prediction: 12.57, target value: 14.0\n",
            "prediction: 10.08, target value: 9.5\n",
            "prediction: 11.17, target value: 10.7\n",
            "prediction: 9.13, target value: 11.9\n",
            "prediction: 16.92, target value: 19.9\n",
            "prediction: 17.90, target value: 17.1\n",
            "prediction: 15.64, target value: 15.9\n",
            "prediction: 18.26, target value: 20.9\n",
            "prediction: 15.51, target value: 15.0\n",
            "prediction: 19.23, target value: 20.7\n",
            "prediction: 17.49, target value: 16.7\n",
            "prediction: 21.82, target value: 21.8\n",
            "prediction: 10.59, target value: 12.0\n",
            "prediction: 14.22, target value: 14.2\n",
            "prediction: 10.76, target value: 10.6\n",
            "prediction: 18.11, target value: 17.3\n",
            "prediction: 9.94, target value: 11.9\n",
            "prediction: 17.39, target value: 20.2\n",
            "prediction: 13.21, target value: 13.3\n",
            "prediction: 23.70, target value: 25.4\n",
            "prediction: 11.04, target value: 10.8\n",
            "prediction: 23.50, target value: 24.2\n",
            "prediction: 7.25, target value: 5.6\n",
            "prediction: 19.17, target value: 19.2\n",
            "prediction: 24.97, target value: 23.8\n",
            "prediction: 21.21, target value: 17.4\n",
            "prediction: 18.86, target value: 17.4\n",
            "prediction: 16.49, target value: 17.3\n",
            "prediction: 13.90, target value: 12.9\n",
            "prediction: 11.26, target value: 11.8\n",
            "prediction: 19.59, target value: 20.9\n",
            "prediction: 15.32, target value: 15.5\n",
            "prediction: 15.91, target value: 17.9\n",
            "prediction: 10.29, target value: 13.2\n",
            "prediction: 20.25, target value: 20.1\n",
            "prediction: 12.59, target value: 10.3\n",
            "prediction: 21.37, target value: 19.8\n",
            "prediction: 11.62, target value: 12.3\n",
            "prediction: 9.01, target value: 12.6\n",
            "prediction: 19.44, target value: 20.7\n",
            "prediction: 15.85, target value: 17.1\n",
            "prediction: 18.58, target value: 18.2\n",
            "prediction: 9.58, target value: 8.0\n",
            "prediction: 21.37, target value: 22.1\n",
            "prediction: 24.70, target value: 25.5\n",
            "prediction: 18.22, target value: 16.0\n",
            "prediction: 18.82, target value: 18.3\n",
            "prediction: 14.97, target value: 15.2\n",
            "prediction: 16.30, target value: 16.0\n",
            "prediction: 8.86, target value: 8.5\n",
            "prediction: 17.37, target value: 18.0\n",
            "prediction: 21.11, target value: 18.9\n",
            "prediction: 18.14, target value: 16.6\n",
            "prediction: 5.58, target value: 5.3\n",
            "prediction: 6.13, target value: 3.2\n",
            "prediction: 14.44, target value: 15.3\n",
            "prediction: 19.48, target value: 17.0\n",
            "prediction: 18.98, target value: 20.5\n",
            "prediction: 20.83, target value: 17.6\n",
            "prediction: 23.11, target value: 25.4\n",
            "prediction: 18.36, target value: 17.3\n",
            "prediction: 21.08, target value: 21.5\n",
            "prediction: 19.09, target value: 17.1\n",
            "prediction: 22.06, target value: 23.2\n",
            "prediction: 12.03, target value: 11.5\n",
            "prediction: 17.12, target value: 20.6\n",
            "prediction: 16.95, target value: 17.9\n",
            "prediction: 9.76, target value: 9.6\n",
            "prediction: 17.39, target value: 16.5\n",
            "prediction: 17.17, target value: 15.0\n",
            "prediction: 19.58, target value: 21.2\n",
            "prediction: 20.27, target value: 19.6\n",
            "prediction: 13.55, target value: 15.5\n",
            "prediction: 20.13, target value: 16.8\n",
            "prediction: 20.52, target value: 22.6\n",
            "prediction: 9.70, target value: 9.7\n",
            "prediction: 11.67, target value: 11.8\n",
            "prediction: 10.10, target value: 11.9\n",
            "prediction: 13.29, target value: 13.2\n",
            "prediction: 18.10, target value: 18.4\n",
            "prediction: 6.57, target value: 7.3\n",
            "prediction: 13.09, target value: 13.6\n",
            "prediction: 21.39, target value: 20.2\n",
            "prediction: 17.29, target value: 17.2\n",
            "prediction: 15.75, target value: 16.7\n",
            "prediction: 5.40, target value: 4.8\n",
            "prediction: 10.83, target value: 13.7\n",
            "prediction: 19.22, target value: 18.4\n",
            "prediction: 16.00, target value: 17.5\n",
            "prediction: 19.65, target value: 17.7\n",
            "prediction: 24.29, target value: 24.4\n",
            "prediction: 9.59, target value: 8.8\n",
            "prediction: 24.92, target value: 27.0\n",
            "prediction: 10.91, target value: 10.8\n",
            "prediction: 16.60, target value: 17.2\n",
            "prediction: 25.04, target value: 26.2\n",
            "prediction: 13.33, target value: 14.0\n",
            "prediction: 22.01, target value: 20.2\n",
            "prediction: 9.77, target value: 12.0\n",
            "prediction: 16.07, target value: 16.4\n",
            "prediction: 10.38, target value: 14.0\n",
            "prediction: 21.37, target value: 23.8\n",
            "prediction: 18.91, target value: 19.8\n",
            "prediction: 12.42, target value: 12.9\n",
            "prediction: 18.27, target value: 17.5\n",
            "prediction: 14.15, target value: 13.2\n",
            "prediction: 16.08, target value: 16.4\n",
            "prediction: 6.20, target value: 5.9\n",
            "prediction: 9.36, target value: 9.7\n",
            "prediction: 13.97, target value: 14.7\n",
            "prediction: 13.12, target value: 10.1\n",
            "prediction: 18.06, target value: 19.6\n",
            "prediction: 11.30, target value: 10.4\n",
            "prediction: 20.89, target value: 22.6\n",
            "prediction: 9.84, target value: 10.1\n",
            "prediction: 8.78, target value: 1.6\n",
            "prediction: 12.37, target value: 11.6\n",
            "prediction: 16.77, target value: 19.7\n",
            "prediction: 16.49, target value: 17.2\n",
            "prediction: 13.86, target value: 12.2\n",
            "prediction: 15.12, target value: 16.0\n",
            "prediction: 18.88, target value: 17.0\n",
            "prediction: 8.15, target value: 7.0\n",
            "prediction: 18.27, target value: 18.4\n",
            "prediction: 19.65, target value: 18.0\n",
            "prediction: 21.72, target value: 20.9\n",
            "prediction: 12.28, target value: 12.4\n",
            "prediction: 7.32, target value: 7.2\n",
            "prediction: 19.36, target value: 19.0\n",
            "prediction: 20.22, target value: 19.4\n",
            "prediction: 14.83, target value: 17.6\n",
            "prediction: 21.10, target value: 19.8\n"
          ]
        }
      ]
    },
    {
      "cell_type": "markdown",
      "source": [
        "## Cost vs Iterations"
      ],
      "metadata": {
        "id": "rHwbdoQQqqW7"
      }
    },
    {
      "cell_type": "code",
      "source": [
        "# plot cost versus iteration\n",
        "fig, (ax1, ax2) = plt.subplots(1, 2, constrained_layout=True, figsize=(12, 4))\n",
        "ax1.plot(J_hist)\n",
        "ax2.plot(100 + np.arange(len(J_hist[100:])), J_hist[100:])\n",
        "ax1.set_title(\"Cost vs. iteration\");  ax2.set_title(\"Cost vs. iteration (tail)\")\n",
        "ax1.set_ylabel('Cost')             ;  ax2.set_ylabel('Cost')\n",
        "ax1.set_xlabel('iteration step')   ;  ax2.set_xlabel('iteration step')\n",
        "plt.show()"
      ],
      "metadata": {
        "colab": {
          "base_uri": "https://localhost:8080/",
          "height": 292
        },
        "id": "81x-dozJ4MOT",
        "outputId": "5eddcc99-e9d9-41b7-d0d1-272d42f2352c"
      },
      "execution_count": null,
      "outputs": [
        {
          "output_type": "display_data",
          "data": {
            "text/plain": [
              "<Figure size 1200x400 with 2 Axes>"
            ],
            "image/png": "[encoded data removed]"
          },
          "metadata": {}
        }
      ]
    },
    {
      "cell_type": "markdown",
      "source": [
        "## Results metrics(R2_score and MSE)"
      ],
      "metadata": {
        "id": "8J_32snaqPPl"
      }
    },
    {
      "cell_type": "code",
      "source": [
        "from sklearn.metrics import mean_squared_error,r2_score"
      ],
      "metadata": {
        "id": "3l7avcRY5fGN"
      },
      "execution_count": null,
      "outputs": []
    },
    {
      "cell_type": "code",
      "source": [
        "y_pred_train=np.zeros(x_train.shape[0])\n",
        "for i in range(x_train.shape[0]):\n",
        "    y_pred_train[i]=np.dot(x_train[i], w_final) + b_final"
      ],
      "metadata": {
        "id": "WCZXQ6jhlAIe"
      },
      "execution_count": null,
      "outputs": []
    },
    {
      "cell_type": "code",
      "source": [
        "y_pred_test=np.zeros(x_test.shape[0])\n",
        "for i in range(x_test.shape[0]):\n",
        "    y_pred_test[i]=np.dot(x_test[i], w_final) + b_final"
      ],
      "metadata": {
        "id": "f3UOI8iRPzRR"
      },
      "execution_count": null,
      "outputs": []
    },
    {
      "cell_type": "code",
      "source": [
        "print(\"R2_Score on train data: \",r2_score(y_train,y_pred_train))\n",
        "print(\"R2_Score on test data: \",r2_score(y_test,y_pred_test))\n",
        "print(\"MSE(Train):\",mean_squared_error(y_train,y_pred_train))\n",
        "print(\"MSE(Test):\",mean_squared_error(y_test,y_pred_test))\n"
      ],
      "metadata": {
        "colab": {
          "base_uri": "https://localhost:8080/"
        },
        "id": "idCecQAoQR8I",
        "outputId": "746d83e2-7b48-4b82-cbed-d5865776363f"
      },
      "execution_count": null,
      "outputs": [
        {
          "output_type": "stream",
          "name": "stdout",
          "text": [
            "R2_Score on train data:  0.9001415286506993\n",
            "R2_Score on test data:  0.90587617179454\n",
            "MSE(Train): 2.6761445816094485\n",
            "MSE(Test): 2.9085298277597373\n"
          ]
        }
      ]
    },
    {
      "cell_type": "markdown",
      "source": [
        "## Comparison with Sklearn Results"
      ],
      "metadata": {
        "id": "gwCuKNsHqxtT"
      }
    },
    {
      "cell_type": "code",
      "source": [
        "from sklearn.linear_model import LinearRegression\n",
        "lr=LinearRegression()\n",
        "lr.fit(x_train,y_train)\n",
        "y_pred_skl=lr.predict(x_test)\n",
        "print(r2_score(y_test,y_pred_skl))\n",
        "print(mean_squared_error(y_test,y_pred_skl))"
      ],
      "metadata": {
        "colab": {
          "base_uri": "https://localhost:8080/"
        },
        "id": "hqCqJkduX6vg",
        "outputId": "84798479-f6bf-4af5-8978-57825b737a62"
      },
      "execution_count": null,
      "outputs": [
        {
          "output_type": "stream",
          "name": "stdout",
          "text": [
            "0.9059011844150825\n",
            "2.9077569102710927\n"
          ]
        }
      ]
    },
    {
      "cell_type": "markdown",
      "source": [
        "## So,we are getting very similar results as compared to in-built sklearn LinearRegression model"
      ],
      "metadata": {
        "id": "fjwop93MraN2"
      }
    },
    {
      "cell_type": "code",
      "source": [],
      "metadata": {
        "id": "-4K1J_gprYXh"
      },
      "execution_count": null,
      "outputs": []
    }
  ]
}