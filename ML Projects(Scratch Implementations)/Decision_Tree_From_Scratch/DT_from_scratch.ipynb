{
  "nbformat": 4,
  "nbformat_minor": 0,
  "metadata": {
    "colab": {
      "provenance": []
    },
    "kernelspec": {
      "name": "python3",
      "display_name": "Python 3"
    },
    "language_info": {
      "name": "python"
    }
  },
  "cells": [
    {
      "cell_type": "markdown",
      "source": [
        "## Importing Libraries"
      ],
      "metadata": {
        "id": "_iQlIyELtWV7"
      }
    },
    {
      "cell_type": "code",
      "execution_count": 53,
      "metadata": {
        "id": "YiO3TwoYSl7j"
      },
      "outputs": [],
      "source": [
        "import pandas as pd\n",
        "import numpy as np\n",
        "import matplotlib.pyplot as plt\n",
        "from sklearn.preprocessing import OneHotEncoder, LabelEncoder\n",
        "from sklearn.model_selection import train_test_split\n",
        "\n"
      ]
    },
    {
      "cell_type": "markdown",
      "source": [
        "## Zoo Dataset for Class Prediction\n",
        "We have different features of animals like predator, presence of backbones ,fins,legs,etc. From these features we try to predict 7 classes of animals."
      ],
      "metadata": {
        "id": "6bmfbo7_uHeV"
      }
    },
    {
      "cell_type": "code",
      "source": [
        "df=pd.read_csv(\"Zoo (1).csv\")\n",
        "df.head()"
      ],
      "metadata": {
        "colab": {
          "base_uri": "https://localhost:8080/",
          "height": 226
        },
        "id": "L7mL0rVjTIAS",
        "outputId": "9692a837-3565-4149-8121-d77e74111a9a"
      },
      "execution_count": 54,
      "outputs": [
        {
          "output_type": "execute_result",
          "data": {
            "text/plain": [
              "    hair  feathers   eggs   milk  airborne  aquatic  predator  toothed  \\\n",
              "0   True     False  False   True     False    False      True     True   \n",
              "1   True     False  False   True     False    False     False     True   \n",
              "2  False     False   True  False     False     True      True     True   \n",
              "3   True     False  False   True     False    False      True     True   \n",
              "4   True     False  False   True     False    False      True     True   \n",
              "\n",
              "   backbone  breathes  venomous   fins  legs   tail  domestic  catsize    type  \n",
              "0      True      True     False  False     4  False     False     True  mammal  \n",
              "1      True      True     False  False     4   True     False     True  mammal  \n",
              "2      True     False     False   True     0   True     False    False    fish  \n",
              "3      True      True     False  False     4  False     False     True  mammal  \n",
              "4      True      True     False  False     4   True     False     True  mammal  "
            ],
            "text/html": [
              "\n",
              "  <div id=\"df-6685bb18-ec58-4582-b62b-2b8e5a9edceb\" class=\"colab-df-container\">\n",
              "    <div>\n",
              "<style scoped>\n",
              "    .dataframe tbody tr th:only-of-type {\n",
              "        vertical-align: middle;\n",
              "    }\n",
              "\n",
              "    .dataframe tbody tr th {\n",
              "        vertical-align: top;\n",
              "    }\n",
              "\n",
              "    .dataframe thead th {\n",
              "        text-align: right;\n",
              "    }\n",
              "</style>\n",
              "<table border=\"1\" class=\"dataframe\">\n",
              "  <thead>\n",
              "    <tr style=\"text-align: right;\">\n",
              "      <th></th>\n",
              "      <th>hair</th>\n",
              "      <th>feathers</th>\n",
              "      <th>eggs</th>\n",
              "      <th>milk</th>\n",
              "      <th>airborne</th>\n",
              "      <th>aquatic</th>\n",
              "      <th>predator</th>\n",
              "      <th>toothed</th>\n",
              "      <th>backbone</th>\n",
              "      <th>breathes</th>\n",
              "      <th>venomous</th>\n",
              "      <th>fins</th>\n",
              "      <th>legs</th>\n",
              "      <th>tail</th>\n",
              "      <th>domestic</th>\n",
              "      <th>catsize</th>\n",
              "      <th>type</th>\n",
              "    </tr>\n",
              "  </thead>\n",
              "  <tbody>\n",
              "    <tr>\n",
              "      <th>0</th>\n",
              "      <td>True</td>\n",
              "      <td>False</td>\n",
              "      <td>False</td>\n",
              "      <td>True</td>\n",
              "      <td>False</td>\n",
              "      <td>False</td>\n",
              "      <td>True</td>\n",
              "      <td>True</td>\n",
              "      <td>True</td>\n",
              "      <td>True</td>\n",
              "      <td>False</td>\n",
              "      <td>False</td>\n",
              "      <td>4</td>\n",
              "      <td>False</td>\n",
              "      <td>False</td>\n",
              "      <td>True</td>\n",
              "      <td>mammal</td>\n",
              "    </tr>\n",
              "    <tr>\n",
              "      <th>1</th>\n",
              "      <td>True</td>\n",
              "      <td>False</td>\n",
              "      <td>False</td>\n",
              "      <td>True</td>\n",
              "      <td>False</td>\n",
              "      <td>False</td>\n",
              "      <td>False</td>\n",
              "      <td>True</td>\n",
              "      <td>True</td>\n",
              "      <td>True</td>\n",
              "      <td>False</td>\n",
              "      <td>False</td>\n",
              "      <td>4</td>\n",
              "      <td>True</td>\n",
              "      <td>False</td>\n",
              "      <td>True</td>\n",
              "      <td>mammal</td>\n",
              "    </tr>\n",
              "    <tr>\n",
              "      <th>2</th>\n",
              "      <td>False</td>\n",
              "      <td>False</td>\n",
              "      <td>True</td>\n",
              "      <td>False</td>\n",
              "      <td>False</td>\n",
              "      <td>True</td>\n",
              "      <td>True</td>\n",
              "      <td>True</td>\n",
              "      <td>True</td>\n",
              "      <td>False</td>\n",
              "      <td>False</td>\n",
              "      <td>True</td>\n",
              "      <td>0</td>\n",
              "      <td>True</td>\n",
              "      <td>False</td>\n",
              "      <td>False</td>\n",
              "      <td>fish</td>\n",
              "    </tr>\n",
              "    <tr>\n",
              "      <th>3</th>\n",
              "      <td>True</td>\n",
              "      <td>False</td>\n",
              "      <td>False</td>\n",
              "      <td>True</td>\n",
              "      <td>False</td>\n",
              "      <td>False</td>\n",
              "      <td>True</td>\n",
              "      <td>True</td>\n",
              "      <td>True</td>\n",
              "      <td>True</td>\n",
              "      <td>False</td>\n",
              "      <td>False</td>\n",
              "      <td>4</td>\n",
              "      <td>False</td>\n",
              "      <td>False</td>\n",
              "      <td>True</td>\n",
              "      <td>mammal</td>\n",
              "    </tr>\n",
              "    <tr>\n",
              "      <th>4</th>\n",
              "      <td>True</td>\n",
              "      <td>False</td>\n",
              "      <td>False</td>\n",
              "      <td>True</td>\n",
              "      <td>False</td>\n",
              "      <td>False</td>\n",
              "      <td>True</td>\n",
              "      <td>True</td>\n",
              "      <td>True</td>\n",
              "      <td>True</td>\n",
              "      <td>False</td>\n",
              "      <td>False</td>\n",
              "      <td>4</td>\n",
              "      <td>True</td>\n",
              "      <td>False</td>\n",
              "      <td>True</td>\n",
              "      <td>mammal</td>\n",
              "    </tr>\n",
              "  </tbody>\n",
              "</table>\n",
              "</div>\n",
              "    <div class=\"colab-df-buttons\">\n",
              "\n",
              "  <div class=\"colab-df-container\">\n",
              "    <button class=\"colab-df-convert\" onclick=\"convertToInteractive('df-6685bb18-ec58-4582-b62b-2b8e5a9edceb')\"\n",
              "            title=\"Convert this dataframe to an interactive table.\"\n",
              "            style=\"display:none;\">\n",
              "\n",
              "  <svg xmlns=\"http://www.w3.org/2000/svg\" height=\"24px\" viewBox=\"0 -960 960 960\">\n",
              "    <path d=\"M120-120v-720h720v720H120Zm60-500h600v-160H180v160Zm220 220h160v-160H400v160Zm0 220h160v-160H400v160ZM180-400h160v-160H180v160Zm440 0h160v-160H620v160ZM180-180h160v-160H180v160Zm440 0h160v-160H620v160Z\"/>\n",
              "  </svg>\n",
              "    </button>\n",
              "\n",
              "  <style>\n",
              "    .colab-df-container {\n",
              "      display:flex;\n",
              "      gap: 12px;\n",
              "    }\n",
              "\n",
              "    .colab-df-convert {\n",
              "      background-color: #E8F0FE;\n",
              "      border: none;\n",
              "      border-radius: 50%;\n",
              "      cursor: pointer;\n",
              "      display: none;\n",
              "      fill: #1967D2;\n",
              "      height: 32px;\n",
              "      padding: 0 0 0 0;\n",
              "      width: 32px;\n",
              "    }\n",
              "\n",
              "    .colab-df-convert:hover {\n",
              "      background-color: #E2EBFA;\n",
              "      box-shadow: 0px 1px 2px rgba(60, 64, 67, 0.3), 0px 1px 3px 1px rgba(60, 64, 67, 0.15);\n",
              "      fill: #174EA6;\n",
              "    }\n",
              "\n",
              "    .colab-df-buttons div {\n",
              "      margin-bottom: 4px;\n",
              "    }\n",
              "\n",
              "    [theme=dark] .colab-df-convert {\n",
              "      background-color: #3B4455;\n",
              "      fill: #D2E3FC;\n",
              "    }\n",
              "\n",
              "    [theme=dark] .colab-df-convert:hover {\n",
              "      background-color: #434B5C;\n",
              "      box-shadow: 0px 1px 3px 1px rgba(0, 0, 0, 0.15);\n",
              "      filter: drop-shadow(0px 1px 2px rgba(0, 0, 0, 0.3));\n",
              "      fill: #FFFFFF;\n",
              "    }\n",
              "  </style>\n",
              "\n",
              "    <script>\n",
              "      const buttonEl =\n",
              "        document.querySelector('#df-6685bb18-ec58-4582-b62b-2b8e5a9edceb button.colab-df-convert');\n",
              "      buttonEl.style.display =\n",
              "        google.colab.kernel.accessAllowed ? 'block' : 'none';\n",
              "\n",
              "      async function convertToInteractive(key) {\n",
              "        const element = document.querySelector('#df-6685bb18-ec58-4582-b62b-2b8e5a9edceb');\n",
              "        const dataTable =\n",
              "          await google.colab.kernel.invokeFunction('convertToInteractive',\n",
              "                                                    [key], {});\n",
              "        if (!dataTable) return;\n",
              "\n",
              "        const docLinkHtml = 'Like what you see? Visit the ' +\n",
              "          '<a target=\"_blank\" href=https://colab.research.google.com/notebooks/data_table.ipynb>data table notebook</a>'\n",
              "          + ' to learn more about interactive tables.';\n",
              "        element.innerHTML = '';\n",
              "        dataTable['output_type'] = 'display_data';\n",
              "        await google.colab.output.renderOutput(dataTable, element);\n",
              "        const docLink = document.createElement('div');\n",
              "        docLink.innerHTML = docLinkHtml;\n",
              "        element.appendChild(docLink);\n",
              "      }\n",
              "    </script>\n",
              "  </div>\n",
              "\n",
              "\n",
              "    <div id=\"df-3b0d7391-98fa-4247-a7f7-14a5f90eee0e\">\n",
              "      <button class=\"colab-df-quickchart\" onclick=\"quickchart('df-3b0d7391-98fa-4247-a7f7-14a5f90eee0e')\"\n",
              "                title=\"Suggest charts\"\n",
              "                style=\"display:none;\">\n",
              "\n",
              "<svg xmlns=\"http://www.w3.org/2000/svg\" height=\"24px\"viewBox=\"0 0 24 24\"\n",
              "     width=\"24px\">\n",
              "    <g>\n",
              "        <path d=\"M19 3H5c-1.1 0-2 .9-2 2v14c0 1.1.9 2 2 2h14c1.1 0 2-.9 2-2V5c0-1.1-.9-2-2-2zM9 17H7v-7h2v7zm4 0h-2V7h2v10zm4 0h-2v-4h2v4z\"/>\n",
              "    </g>\n",
              "</svg>\n",
              "      </button>\n",
              "\n",
              "<style>\n",
              "  .colab-df-quickchart {\n",
              "      --bg-color: #E8F0FE;\n",
              "      --fill-color: #1967D2;\n",
              "      --hover-bg-color: #E2EBFA;\n",
              "      --hover-fill-color: #174EA6;\n",
              "      --disabled-fill-color: #AAA;\n",
              "      --disabled-bg-color: #DDD;\n",
              "  }\n",
              "\n",
              "  [theme=dark] .colab-df-quickchart {\n",
              "      --bg-color: #3B4455;\n",
              "      --fill-color: #D2E3FC;\n",
              "      --hover-bg-color: #434B5C;\n",
              "      --hover-fill-color: #FFFFFF;\n",
              "      --disabled-bg-color: #3B4455;\n",
              "      --disabled-fill-color: #666;\n",
              "  }\n",
              "\n",
              "  .colab-df-quickchart {\n",
              "    background-color: var(--bg-color);\n",
              "    border: none;\n",
              "    border-radius: 50%;\n",
              "    cursor: pointer;\n",
              "    display: none;\n",
              "    fill: var(--fill-color);\n",
              "    height: 32px;\n",
              "    padding: 0;\n",
              "    width: 32px;\n",
              "  }\n",
              "\n",
              "  .colab-df-quickchart:hover {\n",
              "    background-color: var(--hover-bg-color);\n",
              "    box-shadow: 0 1px 2px rgba(60, 64, 67, 0.3), 0 1px 3px 1px rgba(60, 64, 67, 0.15);\n",
              "    fill: var(--button-hover-fill-color);\n",
              "  }\n",
              "\n",
              "  .colab-df-quickchart-complete:disabled,\n",
              "  .colab-df-quickchart-complete:disabled:hover {\n",
              "    background-color: var(--disabled-bg-color);\n",
              "    fill: var(--disabled-fill-color);\n",
              "    box-shadow: none;\n",
              "  }\n",
              "\n",
              "  .colab-df-spinner {\n",
              "    border: 2px solid var(--fill-color);\n",
              "    border-color: transparent;\n",
              "    border-bottom-color: var(--fill-color);\n",
              "    animation:\n",
              "      spin 1s steps(1) infinite;\n",
              "  }\n",
              "\n",
              "  @keyframes spin {\n",
              "    0% {\n",
              "      border-color: transparent;\n",
              "      border-bottom-color: var(--fill-color);\n",
              "      border-left-color: var(--fill-color);\n",
              "    }\n",
              "    20% {\n",
              "      border-color: transparent;\n",
              "      border-left-color: var(--fill-color);\n",
              "      border-top-color: var(--fill-color);\n",
              "    }\n",
              "    30% {\n",
              "      border-color: transparent;\n",
              "      border-left-color: var(--fill-color);\n",
              "      border-top-color: var(--fill-color);\n",
              "      border-right-color: var(--fill-color);\n",
              "    }\n",
              "    40% {\n",
              "      border-color: transparent;\n",
              "      border-right-color: var(--fill-color);\n",
              "      border-top-color: var(--fill-color);\n",
              "    }\n",
              "    60% {\n",
              "      border-color: transparent;\n",
              "      border-right-color: var(--fill-color);\n",
              "    }\n",
              "    80% {\n",
              "      border-color: transparent;\n",
              "      border-right-color: var(--fill-color);\n",
              "      border-bottom-color: var(--fill-color);\n",
              "    }\n",
              "    90% {\n",
              "      border-color: transparent;\n",
              "      border-bottom-color: var(--fill-color);\n",
              "    }\n",
              "  }\n",
              "</style>\n",
              "\n",
              "      <script>\n",
              "        async function quickchart(key) {\n",
              "          const quickchartButtonEl =\n",
              "            document.querySelector('#' + key + ' button');\n",
              "          quickchartButtonEl.disabled = true;  // To prevent multiple clicks.\n",
              "          quickchartButtonEl.classList.add('colab-df-spinner');\n",
              "          try {\n",
              "            const charts = await google.colab.kernel.invokeFunction(\n",
              "                'suggestCharts', [key], {});\n",
              "          } catch (error) {\n",
              "            console.error('Error during call to suggestCharts:', error);\n",
              "          }\n",
              "          quickchartButtonEl.classList.remove('colab-df-spinner');\n",
              "          quickchartButtonEl.classList.add('colab-df-quickchart-complete');\n",
              "        }\n",
              "        (() => {\n",
              "          let quickchartButtonEl =\n",
              "            document.querySelector('#df-3b0d7391-98fa-4247-a7f7-14a5f90eee0e button');\n",
              "          quickchartButtonEl.style.display =\n",
              "            google.colab.kernel.accessAllowed ? 'block' : 'none';\n",
              "        })();\n",
              "      </script>\n",
              "    </div>\n",
              "\n",
              "    </div>\n",
              "  </div>\n"
            ],
            "application/vnd.google.colaboratory.intrinsic+json": {
              "type": "dataframe",
              "variable_name": "df",
              "summary": "{\n  \"name\": \"df\",\n  \"rows\": 101,\n  \"fields\": [\n    {\n      \"column\": \"hair\",\n      \"properties\": {\n        \"dtype\": \"boolean\",\n        \"num_unique_values\": 2,\n        \"samples\": [\n          false,\n          true\n        ],\n        \"semantic_type\": \"\",\n        \"description\": \"\"\n      }\n    },\n    {\n      \"column\": \"feathers\",\n      \"properties\": {\n        \"dtype\": \"boolean\",\n        \"num_unique_values\": 2,\n        \"samples\": [\n          true,\n          false\n        ],\n        \"semantic_type\": \"\",\n        \"description\": \"\"\n      }\n    },\n    {\n      \"column\": \"eggs\",\n      \"properties\": {\n        \"dtype\": \"boolean\",\n        \"num_unique_values\": 2,\n        \"samples\": [\n          true,\n          false\n        ],\n        \"semantic_type\": \"\",\n        \"description\": \"\"\n      }\n    },\n    {\n      \"column\": \"milk\",\n      \"properties\": {\n        \"dtype\": \"boolean\",\n        \"num_unique_values\": 2,\n        \"samples\": [\n          false,\n          true\n        ],\n        \"semantic_type\": \"\",\n        \"description\": \"\"\n      }\n    },\n    {\n      \"column\": \"airborne\",\n      \"properties\": {\n        \"dtype\": \"boolean\",\n        \"num_unique_values\": 2,\n        \"samples\": [\n          true,\n          false\n        ],\n        \"semantic_type\": \"\",\n        \"description\": \"\"\n      }\n    },\n    {\n      \"column\": \"aquatic\",\n      \"properties\": {\n        \"dtype\": \"boolean\",\n        \"num_unique_values\": 2,\n        \"samples\": [\n          true,\n          false\n        ],\n        \"semantic_type\": \"\",\n        \"description\": \"\"\n      }\n    },\n    {\n      \"column\": \"predator\",\n      \"properties\": {\n        \"dtype\": \"boolean\",\n        \"num_unique_values\": 2,\n        \"samples\": [\n          false,\n          true\n        ],\n        \"semantic_type\": \"\",\n        \"description\": \"\"\n      }\n    },\n    {\n      \"column\": \"toothed\",\n      \"properties\": {\n        \"dtype\": \"boolean\",\n        \"num_unique_values\": 2,\n        \"samples\": [\n          false,\n          true\n        ],\n        \"semantic_type\": \"\",\n        \"description\": \"\"\n      }\n    },\n    {\n      \"column\": \"backbone\",\n      \"properties\": {\n        \"dtype\": \"boolean\",\n        \"num_unique_values\": 2,\n        \"samples\": [\n          false,\n          true\n        ],\n        \"semantic_type\": \"\",\n        \"description\": \"\"\n      }\n    },\n    {\n      \"column\": \"breathes\",\n      \"properties\": {\n        \"dtype\": \"boolean\",\n        \"num_unique_values\": 2,\n        \"samples\": [\n          false,\n          true\n        ],\n        \"semantic_type\": \"\",\n        \"description\": \"\"\n      }\n    },\n    {\n      \"column\": \"venomous\",\n      \"properties\": {\n        \"dtype\": \"boolean\",\n        \"num_unique_values\": 2,\n        \"samples\": [\n          true,\n          false\n        ],\n        \"semantic_type\": \"\",\n        \"description\": \"\"\n      }\n    },\n    {\n      \"column\": \"fins\",\n      \"properties\": {\n        \"dtype\": \"boolean\",\n        \"num_unique_values\": 2,\n        \"samples\": [\n          true,\n          false\n        ],\n        \"semantic_type\": \"\",\n        \"description\": \"\"\n      }\n    },\n    {\n      \"column\": \"legs\",\n      \"properties\": {\n        \"dtype\": \"number\",\n        \"std\": 2,\n        \"min\": 0,\n        \"max\": 8,\n        \"num_unique_values\": 6,\n        \"samples\": [\n          4,\n          0\n        ],\n        \"semantic_type\": \"\",\n        \"description\": \"\"\n      }\n    },\n    {\n      \"column\": \"tail\",\n      \"properties\": {\n        \"dtype\": \"boolean\",\n        \"num_unique_values\": 2,\n        \"samples\": [\n          true,\n          false\n        ],\n        \"semantic_type\": \"\",\n        \"description\": \"\"\n      }\n    },\n    {\n      \"column\": \"domestic\",\n      \"properties\": {\n        \"dtype\": \"boolean\",\n        \"num_unique_values\": 2,\n        \"samples\": [\n          true,\n          false\n        ],\n        \"semantic_type\": \"\",\n        \"description\": \"\"\n      }\n    },\n    {\n      \"column\": \"catsize\",\n      \"properties\": {\n        \"dtype\": \"boolean\",\n        \"num_unique_values\": 2,\n        \"samples\": [\n          false,\n          true\n        ],\n        \"semantic_type\": \"\",\n        \"description\": \"\"\n      }\n    },\n    {\n      \"column\": \"type\",\n      \"properties\": {\n        \"dtype\": \"category\",\n        \"num_unique_values\": 7,\n        \"samples\": [\n          \"mammal\",\n          \"fish\"\n        ],\n        \"semantic_type\": \"\",\n        \"description\": \"\"\n      }\n    }\n  ]\n}"
            }
          },
          "metadata": {},
          "execution_count": 54
        }
      ]
    },
    {
      "cell_type": "code",
      "source": [
        "df.shape"
      ],
      "metadata": {
        "colab": {
          "base_uri": "https://localhost:8080/"
        },
        "id": "bSc1ZEoB3bw8",
        "outputId": "d9bda18a-7047-46b6-89b1-085d730e1b6c"
      },
      "execution_count": 68,
      "outputs": [
        {
          "output_type": "execute_result",
          "data": {
            "text/plain": [
              "(101, 17)"
            ]
          },
          "metadata": {},
          "execution_count": 68
        }
      ]
    },
    {
      "cell_type": "markdown",
      "source": [
        "## Feature-Target Split"
      ],
      "metadata": {
        "id": "gdMJJagbuidW"
      }
    },
    {
      "cell_type": "code",
      "source": [
        "X = df.drop(columns=[\"type\"])\n",
        "y = df[\"type\"].values"
      ],
      "metadata": {
        "id": "bQiPkYy2Y2W6"
      },
      "execution_count": 55,
      "outputs": []
    },
    {
      "cell_type": "markdown",
      "source": [
        "## Encoding\n",
        "Onehot Encoding for Presence/Absence of Features\n",
        "\n",
        "Label Encoding for Target"
      ],
      "metadata": {
        "id": "E0zJgdibumPF"
      }
    },
    {
      "cell_type": "code",
      "source": [
        "# Encode all categorical features (except 'legs') using one-hot\n",
        "categorical_cols = X.columns.drop('legs')\n",
        "encoder = OneHotEncoder(sparse_output=False)\n",
        "X_cat_encoded = encoder.fit_transform(X[categorical_cols])\n",
        "\n",
        "# Keep 'legs' as numeric\n",
        "X_num = X[['legs']].values\n",
        "\n",
        "# Combine numeric and encoded categorical features\n",
        "X_encoded = np.hstack([X_num, X_cat_encoded])\n",
        "\n",
        "# Encode target using LabelEncoder\n",
        "le = LabelEncoder()\n",
        "y_encoded = le.fit_transform(y)"
      ],
      "metadata": {
        "id": "EtB2VOwmoLuS"
      },
      "execution_count": 56,
      "outputs": []
    },
    {
      "cell_type": "markdown",
      "source": [
        "## Train-Test Split"
      ],
      "metadata": {
        "id": "x-4IrE7EvINz"
      }
    },
    {
      "cell_type": "code",
      "source": [
        "X_train, X_test, y_train, y_test = train_test_split(\n",
        "    X_encoded, y_encoded, test_size=0.2, random_state=42, stratify=y_encoded)"
      ],
      "metadata": {
        "id": "8hHzaYhGq2iF"
      },
      "execution_count": 57,
      "outputs": []
    },
    {
      "cell_type": "markdown",
      "source": [
        "## Entropy Function Calculation"
      ],
      "metadata": {
        "id": "QGdNxfu8vND0"
      }
    },
    {
      "cell_type": "code",
      "source": [
        "def entropy(y):\n",
        "    classes = np.unique(y)\n",
        "    e = 0\n",
        "    for c in classes:\n",
        "        p = np.sum(y == c) / len(y)\n",
        "        if p > 0:\n",
        "            e -= p * np.log2(p)\n",
        "    return e"
      ],
      "metadata": {
        "id": "hEcnOMc_rI-Z"
      },
      "execution_count": 58,
      "outputs": []
    },
    {
      "cell_type": "markdown",
      "source": [
        "## Information Gain Function"
      ],
      "metadata": {
        "id": "ScbZfOGUvddm"
      }
    },
    {
      "cell_type": "code",
      "source": [
        "def information_gain(y, y_left, y_right):\n",
        "    \"\"\"\n",
        "    Computes Information Gain of a split\n",
        "    y: original labels before split\n",
        "    y_left, y_right: labels of left and right split\n",
        "    \"\"\"\n",
        "    H_before = entropy(y)\n",
        "    H_left = entropy(y_left)\n",
        "    H_right = entropy(y_right)\n",
        "    # Weighted entropy after split\n",
        "    H_after = (len(y_left)*H_left + len(y_right)*H_right) / len(y)\n",
        "    gain = H_before - H_after\n",
        "    return gain"
      ],
      "metadata": {
        "id": "HZIUHEQlraMK"
      },
      "execution_count": 59,
      "outputs": []
    },
    {
      "cell_type": "markdown",
      "source": [
        "## Split the dataset at each node"
      ],
      "metadata": {
        "id": "LJX8NXzevkPx"
      }
    },
    {
      "cell_type": "code",
      "source": [
        "\n",
        "def split_dataset(X, y, feature, threshold):\n",
        "    left_idx = X[:, feature] <= threshold\n",
        "    right_idx = X[:, feature] > threshold\n",
        "    return X[left_idx], y[left_idx], X[right_idx], y[right_idx]"
      ],
      "metadata": {
        "id": "iSHYxneas8el"
      },
      "execution_count": 60,
      "outputs": []
    },
    {
      "cell_type": "markdown",
      "source": [
        "## Find the Best Split Function"
      ],
      "metadata": {
        "id": "GyIhAV6Dvsag"
      }
    },
    {
      "cell_type": "code",
      "source": [
        "def best_split(X, y):\n",
        "    best_gain = -1\n",
        "    best_feat = None\n",
        "    best_thresh = None\n",
        "\n",
        "    for feature in range(X.shape[1]):\n",
        "        thresholds = np.unique(X[:, feature])\n",
        "        for t in thresholds:\n",
        "            _, y_left, _, y_right = split_dataset(X, y, feature, t)\n",
        "            if len(y_left) == 0 or len(y_right) == 0:\n",
        "                continue\n",
        "            gain = information_gain(y, y_left, y_right)\n",
        "            if gain > best_gain:\n",
        "                best_gain = gain\n",
        "                best_feat = feature\n",
        "                best_thresh = t\n",
        "    return best_feat, best_thresh"
      ],
      "metadata": {
        "id": "80DaG1yRrlss"
      },
      "execution_count": 61,
      "outputs": []
    },
    {
      "cell_type": "markdown",
      "source": [
        "## Build The Tree Function"
      ],
      "metadata": {
        "id": "yYV5pZosv1g_"
      }
    },
    {
      "cell_type": "code",
      "source": [
        "def build_tree(X, y, depth=0, max_depth=5):\n",
        "    if len(np.unique(y)) == 1 or depth == max_depth:\n",
        "        return {\"type\": \"leaf\", \"class\": np.bincount(y).argmax()}\n",
        "\n",
        "    feat, thresh = best_split(X, y)\n",
        "    if feat is None:\n",
        "        return {\"type\": \"leaf\", \"class\": np.bincount(y).argmax()}\n",
        "\n",
        "    X_left, y_left, X_right, y_right = split_dataset(X, y, feat, thresh)\n",
        "\n",
        "    left_branch = build_tree(X_left, y_left, depth+1, max_depth=max_depth)\n",
        "    right_branch = build_tree(X_right, y_right, depth+1, max_depth=max_depth)\n",
        "\n",
        "    return {\"type\": \"node\", \"feature\": feat, \"threshold\": thresh,\n",
        "            \"left\": left_branch, \"right\": right_branch}"
      ],
      "metadata": {
        "id": "c94xCHUHruVh"
      },
      "execution_count": 62,
      "outputs": []
    },
    {
      "cell_type": "markdown",
      "source": [
        "## Predictions"
      ],
      "metadata": {
        "id": "DyH7jC52wBuT"
      }
    },
    {
      "cell_type": "code",
      "source": [
        "def predict_tree(x, tree):\n",
        "    if tree[\"type\"] == \"leaf\":\n",
        "        return tree[\"class\"]\n",
        "    if x[tree[\"feature\"]] <= tree[\"threshold\"]:\n",
        "        return predict_tree(x, tree[\"left\"])\n",
        "    else:\n",
        "        return predict_tree(x, tree[\"right\"])\n",
        "\n",
        "def predict(X, tree):\n",
        "    return np.array([predict_tree(x, tree) for x in X])"
      ],
      "metadata": {
        "id": "O0fcuH4crzQ0"
      },
      "execution_count": 63,
      "outputs": []
    },
    {
      "cell_type": "markdown",
      "source": [
        "## Accuracy of Decision Tree"
      ],
      "metadata": {
        "id": "HwsMr4xGwH2J"
      }
    },
    {
      "cell_type": "code",
      "source": [
        "tree = build_tree(X_train, y_train, max_depth=5)\n",
        "\n",
        "y_train_pred = predict(X_train, tree)\n",
        "y_test_pred = predict(X_test, tree)\n",
        "\n",
        "train_acc = np.sum(y_train_pred == y_train) / len(y_train)\n",
        "test_acc = np.sum(y_test_pred == y_test) / len(y_test)\n",
        "\n",
        "print(\"Train Accuracy:\", train_acc)\n",
        "print(\"Test Accuracy:\", test_acc)"
      ],
      "metadata": {
        "colab": {
          "base_uri": "https://localhost:8080/"
        },
        "id": "dvFlLKzzr3J_",
        "outputId": "2c7b56bb-37ed-44c1-b78d-a08126966f26"
      },
      "execution_count": 64,
      "outputs": [
        {
          "output_type": "stream",
          "name": "stdout",
          "text": [
            "Train Accuracy: 0.9875\n",
            "Test Accuracy: 0.9047619047619048\n"
          ]
        }
      ]
    },
    {
      "cell_type": "markdown",
      "source": [
        "Train Accuracy is 98%  higher than test accuracy 90%. This is expected as decision tree generally has the problem of overfitting. So,we need to switch to ensembles."
      ],
      "metadata": {
        "id": "JWsJoSQ1-RDD"
      }
    },
    {
      "cell_type": "markdown",
      "source": [
        "## Printing the Decision Tree"
      ],
      "metadata": {
        "id": "SCplCQMh2vGp"
      }
    },
    {
      "cell_type": "code",
      "source": [
        "def print_tree(tree, features, depth=0):\n",
        "    indent = \"  \" * depth\n",
        "    if tree[\"type\"] == \"leaf\":  # check if node is leaf\n",
        "        print(f\"{indent}Leaf: Class={le.inverse_transform([tree['class']])[0]}\")\n",
        "        return\n",
        "    # It's a decision node\n",
        "    print(f\"{indent}Node: Feature={features[tree['feature']]}, Threshold={tree['threshold']}\")\n",
        "    print_tree(tree[\"left\"], features, depth+1)\n",
        "    print_tree(tree[\"right\"], features, depth+1)"
      ],
      "metadata": {
        "id": "EVyKWcEew4NY"
      },
      "execution_count": 65,
      "outputs": []
    },
    {
      "cell_type": "code",
      "source": [
        "feature_names = ['legs'] + list(encoder.get_feature_names_out(categorical_cols))\n",
        "print_tree(tree, feature_names)"
      ],
      "metadata": {
        "colab": {
          "base_uri": "https://localhost:8080/"
        },
        "id": "3pv96k4MtQCY",
        "outputId": "ce356654-114e-4cfb-d8ec-4a31ae29a0cb"
      },
      "execution_count": 66,
      "outputs": [
        {
          "output_type": "stream",
          "name": "stdout",
          "text": [
            "Node: Feature=milk_False, Threshold=0.0\n",
            "  Leaf: Class=mammal\n",
            "  Node: Feature=feathers_False, Threshold=0.0\n",
            "    Leaf: Class=bird\n",
            "    Node: Feature=backbone_False, Threshold=0.0\n",
            "      Node: Feature=fins_False, Threshold=0.0\n",
            "        Leaf: Class=fish\n",
            "        Node: Feature=tail_False, Threshold=0.0\n",
            "          Leaf: Class=reptile\n",
            "          Leaf: Class=amphibian\n",
            "      Node: Feature=airborne_False, Threshold=0.0\n",
            "        Leaf: Class=insect\n",
            "        Node: Feature=predator_False, Threshold=0.0\n",
            "          Leaf: Class=mollusc.et.al\n",
            "          Leaf: Class=insect\n"
          ]
        }
      ]
    },
    {
      "cell_type": "code",
      "source": [],
      "metadata": {
        "id": "YpObGde6w_68"
      },
      "execution_count": 66,
      "outputs": []
    }
  ]
}